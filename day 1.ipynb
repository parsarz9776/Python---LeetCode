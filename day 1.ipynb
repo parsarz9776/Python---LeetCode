{
 "cells": [
  {
   "cell_type": "code",
   "execution_count": null,
   "id": "cae593d5",
   "metadata": {},
   "outputs": [],
   "source": [
    "#704. Binary Search\n",
    "class Solution(object):\n",
    "    def search(self, nums, target):\n",
    "        l , r = 0 , len(nums)-1\n",
    "    \n",
    "    \n",
    "        while l<=r:\n",
    "            mid = (l+r)/2\n",
    "        \n",
    "            if nums[mid]>target:\n",
    "                r = mid-1\n",
    "            elif nums[mid]<target:\n",
    "                l=mid+1\n",
    "            else:\n",
    "                return mid\n",
    "        return -1  \n",
    "    \n",
    "    \n",
    "    \n",
    "    \n",
    "#278. First Bad Version\n",
    "class Solution(object):\n",
    "    def firstBadVersion(self, n):\n",
    "        low=0\n",
    "        high = n\n",
    "        while low <= high:\n",
    "            mid = (low + high) // 2\n",
    "            bad_version = isBadVersion(mid)\n",
    "            if bad_version == False:\n",
    "                low = mid + 1\n",
    "            else:\n",
    "                high = mid - 1\n",
    "        bad_version = isBadVersion(mid)\n",
    "\n",
    "        if bad_version == True:\n",
    "            return mid\n",
    "        else:\n",
    "            return mid + 1\n",
    "        \n",
    "\n",
    "#35. Search Insert Position\n",
    "class Solution(object):\n",
    "    def searchInsert(self, nums, target):\n",
    "            l , r = 0 , len(nums)-1\n",
    "            while l<=r:\n",
    "                mid = (l+r)/2\n",
    "                if nums[mid]==target:\n",
    "                    return mid\n",
    "                if nums[mid]<target:\n",
    "                    l = mid+1\n",
    "                else:\n",
    "                    r = mid-1\n",
    "            return l\n",
    "            \n",
    "            "
   ]
  }
 ],
 "metadata": {
  "kernelspec": {
   "display_name": "Python 3 (ipykernel)",
   "language": "python",
   "name": "python3"
  },
  "language_info": {
   "codemirror_mode": {
    "name": "ipython",
    "version": 3
   },
   "file_extension": ".py",
   "mimetype": "text/x-python",
   "name": "python",
   "nbconvert_exporter": "python",
   "pygments_lexer": "ipython3",
   "version": "3.8.8"
  }
 },
 "nbformat": 4,
 "nbformat_minor": 5
}
