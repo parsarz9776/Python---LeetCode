{
 "cells": [
  {
   "cell_type": "code",
   "execution_count": null,
   "id": "15144b90",
   "metadata": {},
   "outputs": [],
   "source": [
    "#Reverse String\n",
    "class Solution(object):\n",
    "    def reverseString(self, s):\n",
    "        s.reverse()\n",
    "        return s\n",
    "    \n",
    "    \n",
    " #Reverse String(second solution)   \n",
    "class Solution(object):\n",
    "    def reverseString(self, s):\n",
    "        l , r = 0 , len(s)-1\n",
    "        while l<r:\n",
    "            s[l] , s[r] = s[r] , s[l]\n",
    "            l+=1\n",
    "            r-=1\n",
    "        return s   \n",
    "    \n",
    "    \n",
    "#557. Reverse Words in a String III\n",
    "class Solution(object):\n",
    "    def reverseWords(self, s):\n",
    "        return ' '.join([x[::-1] for x in s.split()])"
   ]
  }
 ],
 "metadata": {
  "kernelspec": {
   "display_name": "Python 3 (ipykernel)",
   "language": "python",
   "name": "python3"
  },
  "language_info": {
   "codemirror_mode": {
    "name": "ipython",
    "version": 3
   },
   "file_extension": ".py",
   "mimetype": "text/x-python",
   "name": "python",
   "nbconvert_exporter": "python",
   "pygments_lexer": "ipython3",
   "version": "3.8.8"
  }
 },
 "nbformat": 4,
 "nbformat_minor": 5
}
