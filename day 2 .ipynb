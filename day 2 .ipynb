{
 "cells": [
  {
   "cell_type": "code",
   "execution_count": null,
   "id": "3e9ac5fb",
   "metadata": {},
   "outputs": [],
   "source": [
    "#977. Squares of a Sorted Array\n",
    "class Solution:\n",
    "    def sortedSquares(self, num: List[int]) -> List[int]:\n",
    "        #Squares of a Sorted Array\n",
    "        result=[]\n",
    "        l , r = 0, len(num)-1\n",
    "        while l<=r:\n",
    "            if (num[l]*num[l])>(num[r]*num[r]):\n",
    "                result.append(num[l] * num[l])\n",
    "                l+=1\n",
    "            else:\n",
    "                result.append(num[r] * num[r])\n",
    "                r-=1\n",
    "        result.sort()\n",
    "        return result\n",
    "\n",
    "#Squares of a Sorted Array(second solution)\n",
    "class Solution:\n",
    "    def sortedSquares(self, num: List[int]) -> List[int]:\n",
    "        #Squares of a Sorted Array\n",
    "        result=[]\n",
    "        l , r = 0, len(num)-1\n",
    "        while l<=r:\n",
    "            a=num[l]*num[l]\n",
    "            result.append(a)\n",
    "            l+=1\n",
    "        result.sort()    \n",
    "        return result    \n",
    "    \n",
    "    \n",
    "    \n",
    "#189. Rotate Array\n",
    "class Solution(object):\n",
    "    def rotate(self, nums, k):\n",
    "        for _ in range(k):\n",
    "            nums.insert(0, nums.pop())\n",
    "        return nums\n"
   ]
  }
 ],
 "metadata": {
  "kernelspec": {
   "display_name": "Python 3 (ipykernel)",
   "language": "python",
   "name": "python3"
  },
  "language_info": {
   "codemirror_mode": {
    "name": "ipython",
    "version": 3
   },
   "file_extension": ".py",
   "mimetype": "text/x-python",
   "name": "python",
   "nbconvert_exporter": "python",
   "pygments_lexer": "ipython3",
   "version": "3.8.8"
  }
 },
 "nbformat": 4,
 "nbformat_minor": 5
}
