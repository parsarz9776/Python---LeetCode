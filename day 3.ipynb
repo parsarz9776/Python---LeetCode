{
 "cells": [
  {
   "cell_type": "code",
   "execution_count": null,
   "id": "2750ad8b",
   "metadata": {},
   "outputs": [],
   "source": [
    "#Move zeros\n",
    "class Solutions(object):\n",
    "    def moveZeroes(self, nums):\n",
    "        result=[]\n",
    "        zeros=[]\n",
    "        for i in range(len(nums)):\n",
    "            if (nums[i]) != 0:\n",
    "                result.append(nums[i])\n",
    "                i+=1\n",
    "            else:\n",
    "                zeros.append(nums[i])\n",
    "        result.extend(zeros)        \n",
    "        return result\n",
    "    \n",
    "#Move zeros(second solution)    \n",
    "class Solution(object):\n",
    "    def moveZeroes(self, nums):\n",
    "        for i in nums:\n",
    "            if i==0:\n",
    "                nums.remove(i)\n",
    "                nums.append(0)\n",
    "                \n",
    "                \n",
    "                \n",
    "#167. Two Sum II - Input Array Is Sorted    \n",
    "class Solution(object):\n",
    "    def twoSum(self, numbers, target):\n",
    "        l , r = 0 , len(numbers)-1\n",
    "        while l<r:\n",
    "            if (numbers[l] + numbers[r]) == target:\n",
    "                return [l+1,r+1]\n",
    "            else:\n",
    "                if (numbers[l] + numbers[r]) > target:\n",
    "                    r-=1\n",
    "                else:\n",
    "                    l+=1\n",
    "                \n",
    "                "
   ]
  }
 ],
 "metadata": {
  "kernelspec": {
   "display_name": "Python 3 (ipykernel)",
   "language": "python",
   "name": "python3"
  },
  "language_info": {
   "codemirror_mode": {
    "name": "ipython",
    "version": 3
   },
   "file_extension": ".py",
   "mimetype": "text/x-python",
   "name": "python",
   "nbconvert_exporter": "python",
   "pygments_lexer": "ipython3",
   "version": "3.8.8"
  }
 },
 "nbformat": 4,
 "nbformat_minor": 5
}
